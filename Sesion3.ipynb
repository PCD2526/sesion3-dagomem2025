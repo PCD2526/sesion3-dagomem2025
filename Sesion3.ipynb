{
  "cells": [
    {
      "cell_type": "markdown",
      "metadata": {
        "id": "view-in-github",
        "colab_type": "text"
      },
      "source": [
        "<a href=\"https://colab.research.google.com/github/PCD2526/sesion3-dagomem2025/blob/main/Sesion3.ipynb\" target=\"_parent\"><img src=\"https://colab.research.google.com/assets/colab-badge.svg\" alt=\"Open In Colab\"/></a>"
      ]
    },
    {
      "cell_type": "markdown",
      "metadata": {
        "id": "aaRjJfK0mCu8"
      },
      "source": [
        "# Sesión 3: estructuras de datos y ficheros"
      ]
    },
    {
      "cell_type": "markdown",
      "metadata": {
        "id": "OfEu7DuRmCu-"
      },
      "source": [
        "En esta sesión vamos a incidir de nuevo en el manejo de estructuras de alto nivel (listas, tuplas, conjuntos y diccionarios). Además, tratamos brevemente el asunto de los ficheros en Python. No vamos a entrar de lleno en ello, ya que, para los objetivos del curso, resulta más conveniente esperar a tratar el manejo de ficheros usando librerías (Pandas y Numpy)."
      ]
    },
    {
      "cell_type": "markdown",
      "metadata": {
        "id": "cy82JMKkmCu-"
      },
      "source": [
        "Podemos encontrar explicación con un nivel suficiente de detalle en la [Sección 5 del tutorial de Python](https://docs.python.org/3/tutorial/datastructures.html).\n",
        "\n",
        "También es adecuda la sección dedicada a [\"data structures and sequences\" del libro \"Python for data analysis\"](https://wesmckinney.com/book/python-builtin#tut_data_structures)."
      ]
    },
    {
      "cell_type": "markdown",
      "metadata": {
        "id": "tSUIeBnCmCu_"
      },
      "source": [
        "## Listas"
      ]
    },
    {
      "cell_type": "markdown",
      "metadata": {
        "id": "aHOPAa6xmCu_"
      },
      "source": [
        "Las listas de Python son objetos heterogéneos mutables.\n",
        "El acceso habitual es por índice o a través de slices.\n",
        "Se dispone de un importante grupo de métodos (de los objetos de la clase List) para operar con listas."
      ]
    },
    {
      "cell_type": "code",
      "execution_count": 1,
      "metadata": {
        "id": "Gx1FX3ylmCvA",
        "colab": {
          "base_uri": "https://localhost:8080/"
        },
        "outputId": "af4041b0-bc00-4d02-a725-f0e96f4fb609"
      },
      "outputs": [
        {
          "output_type": "stream",
          "name": "stdout",
          "text": [
            "0\n"
          ]
        },
        {
          "output_type": "execute_result",
          "data": {
            "text/plain": [
              "[23, 45, 67, 89, 7]"
            ]
          },
          "metadata": {},
          "execution_count": 1
        }
      ],
      "source": [
        "#para añadir al final append\n",
        "J=[\"pepe\",3]\n",
        "print(J.index(\"pepe\"))\n",
        "L=[23,45,67,89]\n",
        "L.append(7)\n",
        "L"
      ]
    },
    {
      "cell_type": "code",
      "execution_count": 2,
      "metadata": {
        "id": "ys7d-88zmCvB",
        "colab": {
          "base_uri": "https://localhost:8080/"
        },
        "outputId": "e745dbae-5b57-4af4-ef72-57317f745d95"
      },
      "outputs": [
        {
          "output_type": "execute_result",
          "data": {
            "text/plain": [
              "[23, 45, 67, 89, 7, 1, 2, 3, 4, 5, 6, 7, 8, 1]"
            ]
          },
          "metadata": {},
          "execution_count": 2
        }
      ],
      "source": [
        "#Se puede extender una lista con cualquier objeto iterable. Una tupla,\n",
        "#L.extend((3,4))\n",
        "\n",
        "L.extend(range(1,9))\n",
        "#Lo siguiente no es correcto porque...\n",
        "#L1=L.extend((1,))\n",
        "#print(L1)\n",
        "#Lo siguiente tampoco\n",
        "#L1=L.extend((1,)).copy()\n",
        "#print(L1)\n",
        "L.extend((1,))\n",
        "L1=L.copy()\n",
        "L1"
      ]
    },
    {
      "cell_type": "code",
      "execution_count": 3,
      "metadata": {
        "id": "wRDmhHoYmCvB",
        "colab": {
          "base_uri": "https://localhost:8080/"
        },
        "outputId": "96aab331-86f8-4e16-b8f0-bfd4b9d129a0"
      },
      "outputs": [
        {
          "output_type": "execute_result",
          "data": {
            "text/plain": [
              "[23, 45, 67, 89, 7, 1, 2, 3, 4, 5, 6, 7, 8, 1, 2, 3]"
            ]
          },
          "metadata": {},
          "execution_count": 3
        }
      ],
      "source": [
        "#Si extendemos una lista con un diccionario, añadimos las claves del diccionario\n",
        "L.extend({2:\"hola\",3:\"adiós\"})\n",
        "L"
      ]
    },
    {
      "cell_type": "code",
      "execution_count": 4,
      "metadata": {
        "id": "TEm3MnGImCvC",
        "colab": {
          "base_uri": "https://localhost:8080/"
        },
        "outputId": "0b1c6372-bfae-4bb7-d7ea-9dbd3a3c34e9"
      },
      "outputs": [
        {
          "output_type": "execute_result",
          "data": {
            "text/plain": [
              "[23, 45, 444, 67, 89, 7, 1, 2, 3, 4, 5, 6, 7, 8, 1, 2, 3]"
            ]
          },
          "metadata": {},
          "execution_count": 4
        }
      ],
      "source": [
        "#Añadir por posición\n",
        "L.insert(2,444)\n",
        "L"
      ]
    },
    {
      "cell_type": "code",
      "execution_count": 5,
      "metadata": {
        "id": "Ushc3l3CmCvC",
        "colab": {
          "base_uri": "https://localhost:8080/"
        },
        "outputId": "0a19db5a-7030-48bf-fe38-5f3d49d3923e"
      },
      "outputs": [
        {
          "output_type": "execute_result",
          "data": {
            "text/plain": [
              "[23, 45, 444, 67, 89, 7, 1, 2, 3, 4, 5, 6, 7, 8, 1, 2, 3]"
            ]
          },
          "metadata": {},
          "execution_count": 5
        }
      ],
      "source": [
        "#Borrar un dato (su primera aparición)\n",
        "# L.remove(3)\n",
        "#print(L)\n",
        "# L.remove(888)\n",
        "L"
      ]
    },
    {
      "cell_type": "code",
      "execution_count": 6,
      "metadata": {
        "id": "-FICbT-WmCvC"
      },
      "outputs": [],
      "source": [
        "L.insert(3,33)\n",
        "L.insert(7,33)\n",
        "L.insert(0,3)\n"
      ]
    },
    {
      "cell_type": "code",
      "execution_count": 7,
      "metadata": {
        "id": "gTHzo0qwmCvC",
        "colab": {
          "base_uri": "https://localhost:8080/"
        },
        "outputId": "5666df7b-1e08-467b-b8cf-f681089ebd6b"
      },
      "outputs": [
        {
          "output_type": "execute_result",
          "data": {
            "text/plain": [
              "0"
            ]
          },
          "metadata": {},
          "execution_count": 7
        }
      ],
      "source": [
        "#primer índice que ocupa un elemento a partir de una determinada posición (opcional)\n",
        "L.index(3)"
      ]
    },
    {
      "cell_type": "code",
      "execution_count": 8,
      "metadata": {
        "id": "912-5WFZmCvD",
        "colab": {
          "base_uri": "https://localhost:8080/"
        },
        "outputId": "bac40591-61b8-4fac-f0e7-784b9b9f6266"
      },
      "outputs": [
        {
          "output_type": "execute_result",
          "data": {
            "text/plain": [
              "11"
            ]
          },
          "metadata": {},
          "execution_count": 8
        }
      ],
      "source": [
        "L.index(3,5)"
      ]
    },
    {
      "cell_type": "code",
      "execution_count": 9,
      "metadata": {
        "id": "tuT_gMS9mCvD",
        "colab": {
          "base_uri": "https://localhost:8080/"
        },
        "outputId": "179664cb-e703-4bc9-d1d6-72d610b3ffc3"
      },
      "outputs": [
        {
          "output_type": "execute_result",
          "data": {
            "text/plain": [
              "19"
            ]
          },
          "metadata": {},
          "execution_count": 9
        }
      ],
      "source": [
        "L.index(3,14)"
      ]
    },
    {
      "cell_type": "code",
      "execution_count": 10,
      "metadata": {
        "id": "LRLpUPVsmCvD",
        "colab": {
          "base_uri": "https://localhost:8080/"
        },
        "outputId": "06f24299-e908-4b31-f996-43cf68c41606"
      },
      "outputs": [
        {
          "output_type": "stream",
          "name": "stdout",
          "text": [
            "[3, 23, 45, 444, 33, 67, 89, 7, 33, 1, 2, 3, 4, 5, 6, 7, 8, 1, 2, 3]\n",
            "[23, 45, 444, 33, 67, 89, 7, 33, 1, 2, 3, 4, 5, 6, 7, 8, 1, 2, 3]\n"
          ]
        }
      ],
      "source": [
        "#Aunque no es un método de listas, el \"operador del\" permite eliminar por posición\n",
        "print(L)\n",
        "del (L[0])\n",
        "print(L)"
      ]
    },
    {
      "cell_type": "code",
      "execution_count": 11,
      "metadata": {
        "id": "zLUbSfFnmCvD",
        "colab": {
          "base_uri": "https://localhost:8080/"
        },
        "outputId": "ba109c89-5a3d-4d22-c732-7b3d1f44b347"
      },
      "outputs": [
        {
          "output_type": "stream",
          "name": "stdout",
          "text": [
            "[23, 45, 444, 33, 67, 1, 2, 3, 4, 5, 6, 7, 8, 1, 2, 3]\n"
          ]
        }
      ],
      "source": [
        "del(L[5:8])\n",
        "print(L)\n",
        "#dir(L)"
      ]
    },
    {
      "cell_type": "markdown",
      "metadata": {
        "raw_mimetype": "text/latex",
        "id": "waolvdmAmCvD"
      },
      "source": [
        "**Trabajo personal**: hacer pruebas con ``pop``, ``cont``, ``sort``, ``copy``, ``clear``, ..."
      ]
    },
    {
      "cell_type": "code",
      "source": [
        "list.pop?\n",
        "print(L)\n",
        "print(f\"Eliminado el cuarto elemento de la lista L ({L.pop(3)})\")\n",
        "L"
      ],
      "metadata": {
        "colab": {
          "base_uri": "https://localhost:8080/"
        },
        "id": "RHOI0GGeTuPS",
        "outputId": "0cabf858-6aa7-42d4-b48a-f86c55e933e8"
      },
      "execution_count": 12,
      "outputs": [
        {
          "output_type": "stream",
          "name": "stdout",
          "text": [
            "[23, 45, 444, 33, 67, 1, 2, 3, 4, 5, 6, 7, 8, 1, 2, 3]\n",
            "Eliminado el cuarto elemento de la lista L (33)\n"
          ]
        },
        {
          "output_type": "execute_result",
          "data": {
            "text/plain": [
              "[23, 45, 444, 67, 1, 2, 3, 4, 5, 6, 7, 8, 1, 2, 3]"
            ]
          },
          "metadata": {},
          "execution_count": 12
        }
      ]
    },
    {
      "cell_type": "code",
      "source": [
        "list.count?\n",
        "print(f\"El número 444 aparece {L.count(444)} vez mientras que el número 1 aparece {L.count(1)} veces\")"
      ],
      "metadata": {
        "colab": {
          "base_uri": "https://localhost:8080/"
        },
        "id": "oekoJHjYT7lA",
        "outputId": "57f5e27e-290b-40ad-9918-ff849c06ab19"
      },
      "execution_count": 13,
      "outputs": [
        {
          "output_type": "stream",
          "name": "stdout",
          "text": [
            "El número 444 aparece 1 vez mientras que el número 1 aparece 2 veces\n"
          ]
        }
      ]
    },
    {
      "cell_type": "code",
      "source": [
        "list.sort?\n",
        "list.copy?\n",
        "Lord=L.copy()\n",
        "Lord.sort(reverse=True)\n",
        "print(f\"El mayor elemento de la lista es {Lord[0]}\")"
      ],
      "metadata": {
        "colab": {
          "base_uri": "https://localhost:8080/"
        },
        "id": "eaKClVqvUCv9",
        "outputId": "404c8f13-0833-4d32-a165-b52f9a272769"
      },
      "execution_count": 14,
      "outputs": [
        {
          "output_type": "stream",
          "name": "stdout",
          "text": [
            "El mayor elemento de la lista es 444\n"
          ]
        }
      ]
    },
    {
      "cell_type": "code",
      "source": [
        "list.clear?\n",
        "L.clear()\n",
        "print(f\"Ahora vacío la lista: {L}\")"
      ],
      "metadata": {
        "colab": {
          "base_uri": "https://localhost:8080/"
        },
        "id": "RKLGFz35UIFu",
        "outputId": "d9dbc34a-f360-4067-f113-46134682e279"
      },
      "execution_count": 15,
      "outputs": [
        {
          "output_type": "stream",
          "name": "stdout",
          "text": [
            "Ahora vacío la lista: []\n"
          ]
        }
      ]
    },
    {
      "cell_type": "markdown",
      "metadata": {
        "id": "GI7WkPNxmCvD"
      },
      "source": [
        "Consultar la documentación para ver el uso de las listas Python como pilas y colas."
      ]
    },
    {
      "cell_type": "markdown",
      "metadata": {
        "id": "2fWdCw1cmCvE"
      },
      "source": [
        "###### Muy importante."
      ]
    },
    {
      "cell_type": "code",
      "execution_count": 16,
      "metadata": {
        "id": "rE38-UmVmCvE",
        "colab": {
          "base_uri": "https://localhost:8080/"
        },
        "outputId": "d5283ccb-7c6a-4f22-c8cc-2f4dbd7095a8"
      },
      "outputs": [
        {
          "output_type": "stream",
          "name": "stdout",
          "text": [
            "[8]\n"
          ]
        },
        {
          "output_type": "execute_result",
          "data": {
            "text/plain": [
              "NoneType"
            ]
          },
          "metadata": {},
          "execution_count": 16
        }
      ],
      "source": [
        "L.insert(0,8)\n",
        "print(L)\n",
        "type(L.insert(0,8))\n",
        "# help(list.insert)"
      ]
    },
    {
      "cell_type": "markdown",
      "source": [],
      "metadata": {
        "id": "I2R8EuC-XrFQ"
      }
    },
    {
      "cell_type": "markdown",
      "metadata": {
        "id": "Xu6toAv6mCvE"
      },
      "source": [
        "Como ya hemos visto antes, los métodos modificadores no devuelven, es decir, devuelven ``None``.\n",
        "Por eso, no funciona lo siguiente (algo que choca desde el punto de vista funcional)"
      ]
    },
    {
      "cell_type": "code",
      "execution_count": 17,
      "metadata": {
        "id": "IWNoOumtmCvE"
      },
      "outputs": [],
      "source": [
        "\n",
        "# L.insert(0,8).insert(4,5)\n"
      ]
    },
    {
      "cell_type": "markdown",
      "metadata": {
        "id": "hnu4ZvzLmCvE"
      },
      "source": [
        "### Listas por comprensión"
      ]
    },
    {
      "cell_type": "markdown",
      "metadata": {
        "id": "u-LPTO9TmCvE"
      },
      "source": [
        "Una herramienta importante de Python es la definición de listas por comprensión, un mecanismo propio de la Programación Funcional y que veremos con más detalle en sesiones posteriores.\n",
        "Corresponde a un tipo de definición habitual en matemáticas, conjuntos definidos por \"comprensión\". De momento, nos limitamos a presentarlo."
      ]
    },
    {
      "cell_type": "code",
      "execution_count": 18,
      "metadata": {
        "id": "ZH44H1TxmCvE",
        "colab": {
          "base_uri": "https://localhost:8080/"
        },
        "outputId": "2796791d-3c93-40f7-c203-cb4a25d988d3"
      },
      "outputs": [
        {
          "output_type": "stream",
          "name": "stdout",
          "text": [
            "[2, 4, 6, 8, 10, 12]\n"
          ]
        }
      ],
      "source": [
        "dobles=[2*x for x in [1,2,3,4,5,6]]\n",
        "print(dobles)"
      ]
    },
    {
      "cell_type": "code",
      "execution_count": 19,
      "metadata": {
        "id": "hQqqKg68mCvF",
        "colab": {
          "base_uri": "https://localhost:8080/"
        },
        "outputId": "02e0c561-c45b-4f28-99a0-56cc83c347c7"
      },
      "outputs": [
        {
          "output_type": "stream",
          "name": "stdout",
          "text": [
            "[2, 4, 6, 8, 10, 12]\n"
          ]
        }
      ],
      "source": [
        "#Es una forma muy cómoda y compacta de calcular expresiones de tipo list\n",
        "#Equivale a:\n",
        "duplos=[]\n",
        "for x in [1,2,3,4,5,6]:\n",
        "    duplos.append(2*x)\n",
        "print(duplos)"
      ]
    },
    {
      "cell_type": "code",
      "execution_count": 20,
      "metadata": {
        "id": "9CqJjkOMmCvF",
        "colab": {
          "base_uri": "https://localhost:8080/"
        },
        "outputId": "269335c7-be54-41ae-d1eb-748657b042a6"
      },
      "outputs": [
        {
          "output_type": "execute_result",
          "data": {
            "text/plain": [
              "[6, 12, 18]"
            ]
          },
          "metadata": {},
          "execution_count": 20
        }
      ],
      "source": [
        "#Se pueden filtrar elementos\n",
        "triples=[3*x for x in range(1,7) if (x%2==0)]\n",
        "triples"
      ]
    },
    {
      "cell_type": "code",
      "execution_count": 21,
      "metadata": {
        "id": "smXU8atJmCvF",
        "colab": {
          "base_uri": "https://localhost:8080/"
        },
        "outputId": "7fef3ffc-3c97-4941-ba68-5ababcb938fe"
      },
      "outputs": [
        {
          "output_type": "stream",
          "name": "stdout",
          "text": [
            "[6, 12, 18]\n"
          ]
        }
      ],
      "source": [
        "#Equivale a\n",
        "triplos=[]\n",
        "for x in [1,2,3,4,5,6]:\n",
        "    if (x%2==0):\n",
        "        triplos.append(3*x)\n",
        "print(triplos)"
      ]
    },
    {
      "cell_type": "code",
      "execution_count": 22,
      "metadata": {
        "id": "40HaKJpLmCvF",
        "colab": {
          "base_uri": "https://localhost:8080/"
        },
        "outputId": "df984e1b-a76e-4c2f-ed87-ea1c6f44faed"
      },
      "outputs": [
        {
          "output_type": "execute_result",
          "data": {
            "text/plain": [
              "[(1, 3), (1, 4), (2, 3), (2, 1), (2, 4), (3, 1), (3, 4)]"
            ]
          },
          "metadata": {},
          "execution_count": 22
        }
      ],
      "source": [
        "#Se admiten expresiones lista, tupla,..\n",
        "#Se admite concatenación de parejas for...if\n",
        "combi=[(x, y) for x in [1,2,3] for y in [3,1,4] if x != y]\n",
        "combi"
      ]
    },
    {
      "cell_type": "code",
      "execution_count": 23,
      "metadata": {
        "id": "0I5_aAmpmCvF",
        "colab": {
          "base_uri": "https://localhost:8080/"
        },
        "outputId": "89e09083-e718-4e1e-c813-6d2966de1495"
      },
      "outputs": [
        {
          "output_type": "execute_result",
          "data": {
            "text/plain": [
              "[(1, 3), (1, 11), (1, 4), (2, 3), (2, 11), (2, 4), (3, 11), (3, 4)]"
            ]
          },
          "metadata": {},
          "execution_count": 23
        }
      ],
      "source": [
        "combs = []\n",
        "for x in [1,2,3]:\n",
        "    for y in [3,11,4]:\n",
        "        if x != y:\n",
        "            combs.append((x, y))\n",
        "combs"
      ]
    },
    {
      "cell_type": "code",
      "execution_count": 24,
      "metadata": {
        "id": "XUrE6FrOmCvF",
        "colab": {
          "base_uri": "https://localhost:8080/"
        },
        "outputId": "88936e67-7b9e-4224-9dc0-d21adfec50f9"
      },
      "outputs": [
        {
          "output_type": "execute_result",
          "data": {
            "text/plain": [
              "[[1], [1, 4], [1, 4, 9], [1, 4, 9, 16], [1, 4, 9, 16, 25]]"
            ]
          },
          "metadata": {},
          "execution_count": 24
        }
      ],
      "source": [
        "#Se pueden anidar listas definidas por conprensión.\n",
        "ani=[[x*x for x in range(1,i)] for i in range(2,7)]\n",
        "ani"
      ]
    },
    {
      "cell_type": "code",
      "execution_count": 25,
      "metadata": {
        "id": "5HiEm1xZmCvG",
        "colab": {
          "base_uri": "https://localhost:8080/"
        },
        "outputId": "8cc000f3-16a4-46ff-c203-8a4848c90e6c"
      },
      "outputs": [
        {
          "output_type": "stream",
          "name": "stdout",
          "text": [
            "[[1, 0, 0], [0, 1, 0], [0, 0, 1]]\n"
          ]
        }
      ],
      "source": [
        "def ident(n):\n",
        "    return([[int(i==x) for i in range(0,n)] for x in range (0,n)])\n",
        "\n",
        "print(ident(3))"
      ]
    },
    {
      "cell_type": "markdown",
      "metadata": {
        "id": "peZNrYYymCvG"
      },
      "source": [
        "###### Otros tipos secuencia (además de listas): tuplas y rangos"
      ]
    },
    {
      "cell_type": "markdown",
      "metadata": {
        "id": "BDj2ph3qmCvG"
      },
      "source": [
        "Los tres tipos secuencia básicos son listas, tuplas y rangos.\n",
        "Los operadores comunes  todos ellos los encontramos en:\n",
        "    https://docs.python.org/3/library/stdtypes.html#typesseq"
      ]
    },
    {
      "cell_type": "code",
      "execution_count": 26,
      "metadata": {
        "id": "DENd6-X0mCvG",
        "colab": {
          "base_uri": "https://localhost:8080/"
        },
        "outputId": "75754598-e733-4161-8ab8-be0941394e8c"
      },
      "outputs": [
        {
          "output_type": "stream",
          "name": "stdout",
          "text": [
            "(3, [3, 4], 'pepe')\n"
          ]
        }
      ],
      "source": [
        "#Respecto de TUPLAS, se trata de secuencias inmutables y heterogéneas\n",
        "t=3,[3,4],\"pepe\"\n",
        "print(t)"
      ]
    },
    {
      "cell_type": "code",
      "execution_count": 27,
      "metadata": {
        "id": "bpt1YmGHmCvG"
      },
      "outputs": [],
      "source": [
        "#Ya dijimos que son objetos inmutables\n",
        "# t[2]=4"
      ]
    },
    {
      "cell_type": "code",
      "execution_count": 28,
      "metadata": {
        "id": "CuBdDDz3mCvG",
        "colab": {
          "base_uri": "https://localhost:8080/"
        },
        "outputId": "0461f4a1-fa9d-4e9a-9e2b-eb6ad7d41f7a"
      },
      "outputs": [
        {
          "output_type": "execute_result",
          "data": {
            "text/plain": [
              "[3, 4]"
            ]
          },
          "metadata": {},
          "execution_count": 28
        }
      ],
      "source": [
        "#El acceso por índice y slice es el común a todos los tipos de secuencias\n",
        "t[1]"
      ]
    },
    {
      "cell_type": "code",
      "execution_count": 29,
      "metadata": {
        "id": "-LGWEh5amCvG",
        "colab": {
          "base_uri": "https://localhost:8080/"
        },
        "outputId": "74555584-59c3-4731-c5cc-80855012daa0"
      },
      "outputs": [
        {
          "output_type": "execute_result",
          "data": {
            "text/plain": [
              "(3,)"
            ]
          },
          "metadata": {},
          "execution_count": 29
        }
      ],
      "source": [
        "t[0:1]"
      ]
    },
    {
      "cell_type": "code",
      "execution_count": 30,
      "metadata": {
        "id": "DdTNpfffmCvQ",
        "colab": {
          "base_uri": "https://localhost:8080/"
        },
        "outputId": "407fec30-831e-4730-a0a8-584f6a4c48dc"
      },
      "outputs": [
        {
          "output_type": "execute_result",
          "data": {
            "text/plain": [
              "()"
            ]
          },
          "metadata": {},
          "execution_count": 30
        }
      ],
      "source": [
        "#La tupla vacía\n",
        "s=()\n",
        "s"
      ]
    },
    {
      "cell_type": "code",
      "execution_count": 31,
      "metadata": {
        "id": "pgs5uUhumCvQ",
        "colab": {
          "base_uri": "https://localhost:8080/"
        },
        "outputId": "7e36dd8e-9c2b-4859-b24d-4dc38750487f"
      },
      "outputs": [
        {
          "output_type": "execute_result",
          "data": {
            "text/plain": [
              "int"
            ]
          },
          "metadata": {},
          "execution_count": 31
        }
      ],
      "source": [
        "#los átomos llevan una coma\n",
        "s=(3,)\n",
        "s\n",
        "type ((3))\n",
        "#type((3,))"
      ]
    },
    {
      "cell_type": "code",
      "execution_count": 32,
      "metadata": {
        "id": "hkdpH3_OmCvR",
        "colab": {
          "base_uri": "https://localhost:8080/"
        },
        "outputId": "94333ce2-850f-469d-af4a-cc6c1d3e2dd4"
      },
      "outputs": [
        {
          "output_type": "execute_result",
          "data": {
            "text/plain": [
              "(3,)"
            ]
          },
          "metadata": {},
          "execution_count": 32
        }
      ],
      "source": [
        "s=3,\n",
        "s"
      ]
    },
    {
      "cell_type": "code",
      "execution_count": 33,
      "metadata": {
        "id": "-aimmdCVmCvR",
        "colab": {
          "base_uri": "https://localhost:8080/"
        },
        "outputId": "5f9de90e-8135-4534-f9e6-09045f1f1bf5"
      },
      "outputs": [
        {
          "output_type": "execute_result",
          "data": {
            "text/plain": [
              "(4, 9, 16)"
            ]
          },
          "metadata": {},
          "execution_count": 33
        }
      ],
      "source": [
        "#Se construyen a partir de cualquier iterable. Una lista, por ejemplo.\n",
        "s=tuple([x*x for x in range(2,5)])\n",
        "s"
      ]
    },
    {
      "cell_type": "code",
      "execution_count": 34,
      "metadata": {
        "id": "3yiNyLzcmCvR",
        "colab": {
          "base_uri": "https://localhost:8080/"
        },
        "outputId": "19c72576-ed4b-419c-f2d4-fd6f763c717c"
      },
      "outputs": [
        {
          "output_type": "execute_result",
          "data": {
            "text/plain": [
              "4"
            ]
          },
          "metadata": {},
          "execution_count": 34
        }
      ],
      "source": [
        "#Empaquetado y desempquetado. Corresponde con la idea de matching\n",
        "s=3,4,5\n",
        "x,y,z=s\n",
        "y"
      ]
    },
    {
      "cell_type": "code",
      "execution_count": 35,
      "metadata": {
        "id": "omebf_EumCvR",
        "colab": {
          "base_uri": "https://localhost:8080/"
        },
        "outputId": "c52f4bf7-ac22-4b12-a29f-5d0b0b35edb7"
      },
      "outputs": [
        {
          "output_type": "execute_result",
          "data": {
            "text/plain": [
              "range(1, 25, 2)"
            ]
          },
          "metadata": {},
          "execution_count": 35
        }
      ],
      "source": [
        "#Más adelante en el curso trataremos con rigor los rangos.\n",
        "#Aunque no es el uso habitual, los rangos pueden ser utilizados directamente\n",
        "#como secuencias\n",
        "#Se basan en la idea de evluación perezosa (no se calculan sus elementos hasta que no se demanda)\n",
        "range (1,25,2)"
      ]
    },
    {
      "cell_type": "code",
      "execution_count": 36,
      "metadata": {
        "id": "zHSfR2xjmCvR",
        "colab": {
          "base_uri": "https://localhost:8080/"
        },
        "outputId": "43f3385a-f5cf-443a-d7fd-93fc90b865b1"
      },
      "outputs": [
        {
          "output_type": "stream",
          "name": "stdout",
          "text": [
            "range(1, 25, 2)\n"
          ]
        }
      ],
      "source": [
        "print(range(1, 25, 2))"
      ]
    },
    {
      "cell_type": "code",
      "execution_count": 37,
      "metadata": {
        "id": "VCpnvsZ6mCvS",
        "colab": {
          "base_uri": "https://localhost:8080/"
        },
        "outputId": "165b9882-671b-486d-9028-536140ab805d"
      },
      "outputs": [
        {
          "output_type": "execute_result",
          "data": {
            "text/plain": [
              "False"
            ]
          },
          "metadata": {},
          "execution_count": 37
        }
      ],
      "source": [
        "4 in range(1,25,2)"
      ]
    },
    {
      "cell_type": "code",
      "execution_count": 38,
      "metadata": {
        "id": "XCXK-2osmCvS",
        "colab": {
          "base_uri": "https://localhost:8080/"
        },
        "outputId": "3269c1a4-6dfa-4c30-b08f-2dfc63fe218e"
      },
      "outputs": [
        {
          "output_type": "execute_result",
          "data": {
            "text/plain": [
              "7"
            ]
          },
          "metadata": {},
          "execution_count": 38
        }
      ],
      "source": [
        "s=range(1,25,7)\n",
        "s.step"
      ]
    },
    {
      "cell_type": "code",
      "execution_count": 39,
      "metadata": {
        "id": "LLf23_wJmCvS",
        "colab": {
          "base_uri": "https://localhost:8080/"
        },
        "outputId": "cbe65b51-1bd0-4d83-e8f0-aac206c65ff3"
      },
      "outputs": [
        {
          "output_type": "execute_result",
          "data": {
            "text/plain": [
              "True"
            ]
          },
          "metadata": {},
          "execution_count": 39
        }
      ],
      "source": [
        "5 not in s"
      ]
    },
    {
      "cell_type": "code",
      "execution_count": 40,
      "metadata": {
        "id": "r95I06NYmCvS",
        "colab": {
          "base_uri": "https://localhost:8080/"
        },
        "outputId": "23294095-1c1c-4090-f613-7039dab71b10"
      },
      "outputs": [
        {
          "output_type": "execute_result",
          "data": {
            "text/plain": [
              "(4, 5, 6, 7)"
            ]
          },
          "metadata": {},
          "execution_count": 40
        }
      ],
      "source": [
        "s=tuple(range(4,8))\n",
        "s"
      ]
    },
    {
      "cell_type": "code",
      "execution_count": 41,
      "metadata": {
        "id": "2NbD884XmCvS",
        "colab": {
          "base_uri": "https://localhost:8080/"
        },
        "outputId": "18b791df-e38d-4296-f688-3f25b0f179ff"
      },
      "outputs": [
        {
          "output_type": "execute_result",
          "data": {
            "text/plain": [
              "11"
            ]
          },
          "metadata": {},
          "execution_count": 41
        }
      ],
      "source": [
        "min(range(5,8))+max(range(3,7))\n"
      ]
    },
    {
      "cell_type": "code",
      "execution_count": 42,
      "metadata": {
        "id": "s4TvSlvKmCvS",
        "colab": {
          "base_uri": "https://localhost:8080/"
        },
        "outputId": "f13d3376-e9ff-47fa-eae0-dd8f91532c82"
      },
      "outputs": [
        {
          "output_type": "execute_result",
          "data": {
            "text/plain": [
              "3"
            ]
          },
          "metadata": {},
          "execution_count": 42
        }
      ],
      "source": [
        "range(2,4)[1]"
      ]
    },
    {
      "cell_type": "code",
      "execution_count": 43,
      "metadata": {
        "id": "-mW1GJJqmCvT",
        "colab": {
          "base_uri": "https://localhost:8080/"
        },
        "outputId": "05599fe9-7ba6-4ffa-dc57-78acef51ddd8"
      },
      "outputs": [
        {
          "output_type": "stream",
          "name": "stdout",
          "text": [
            "range(4, 9, 3)\n"
          ]
        }
      ],
      "source": [
        "#Accesores a rangos mediante índices\n",
        "l=range(2,17)[2:7:3]\n",
        "print(l)"
      ]
    },
    {
      "cell_type": "markdown",
      "metadata": {
        "id": "A_aC_hFTmCvT"
      },
      "source": [
        "**Trabajo personal**: respecto de conjuntos y diccionarios, consultad el Tutorial de Python."
      ]
    },
    {
      "cell_type": "code",
      "source": [
        "dict?"
      ],
      "metadata": {
        "id": "gRNHv4hxZhah"
      },
      "execution_count": 44,
      "outputs": []
    },
    {
      "cell_type": "code",
      "source": [
        "set?"
      ],
      "metadata": {
        "id": "drq5xmF2ZhWI"
      },
      "execution_count": 45,
      "outputs": []
    },
    {
      "cell_type": "code",
      "execution_count": 46,
      "metadata": {
        "id": "btL8hmYsmCvT",
        "colab": {
          "base_uri": "https://localhost:8080/"
        },
        "outputId": "38005c9e-7198-419f-9bc8-f1ebb7677bc0"
      },
      "outputs": [
        {
          "output_type": "execute_result",
          "data": {
            "text/plain": [
              "0"
            ]
          },
          "metadata": {},
          "execution_count": 46
        }
      ],
      "source": [
        "list(l)\n",
        "l.count(6)"
      ]
    },
    {
      "cell_type": "markdown",
      "source": [
        "-------------------------------"
      ],
      "metadata": {
        "id": "JcgkaHVNnYm8"
      }
    },
    {
      "cell_type": "markdown",
      "metadata": {
        "id": "cyjsVCWpmCvT"
      },
      "source": [
        "## Ejercicios\n",
        "\n",
        "A continuación se listan los ejercicios a realizar para esta sesión. Para cada uno de ellos se proporciona la cabecera de la función a definir junto con unos casos de prueba para verificar el comportamiento correcto de los métodos. Lo único que deberás hacer es reemplazar el ``pass`` por la definición de la función."
      ]
    },
    {
      "cell_type": "markdown",
      "source": [
        "**Ejercicio:** Mediante listas definidas por comprensión define una función que calcule la suma de los cuadrados de los números menores que un entero dado."
      ],
      "metadata": {
        "id": "Gfo88vC9pZQu"
      }
    },
    {
      "cell_type": "code",
      "source": [
        "def suma_cuadrados_menores_entero(lista,x):\n",
        "  '''\n",
        "  >>> suma_cuadrados_menores_entero([],2)\n",
        "  0\n",
        "  >>> suma_cuadrados_menores_entero(range(0,10),5)\n",
        "  30\n",
        "  >>> suma_cuadrados_menores_entero(range(-10,10,2),0)\n",
        "  220\n",
        "  '''\n",
        "  return sum([i**2 for i in lista if i<x])"
      ],
      "metadata": {
        "id": "krlbKzrZphiV"
      },
      "execution_count": 47,
      "outputs": []
    },
    {
      "cell_type": "markdown",
      "source": [
        "**Ejercicio:** Mediante listas definidas por comprensión define una función que calcule la lista de los divisores de un número."
      ],
      "metadata": {
        "id": "xnh8WJx7prs-"
      }
    },
    {
      "cell_type": "code",
      "source": [
        "import doctest"
      ],
      "metadata": {
        "id": "JuQBX8W5phfl"
      },
      "execution_count": 48,
      "outputs": []
    },
    {
      "cell_type": "code",
      "source": [
        "\n",
        "doctest.testmod()"
      ],
      "metadata": {
        "id": "KSV_7uUV3P5U",
        "outputId": "ece6a235-aff7-4fc4-90b1-26b16f583ac6",
        "colab": {
          "base_uri": "https://localhost:8080/"
        }
      },
      "execution_count": 49,
      "outputs": [
        {
          "output_type": "execute_result",
          "data": {
            "text/plain": [
              "TestResults(failed=0, attempted=3)"
            ]
          },
          "metadata": {},
          "execution_count": 49
        }
      ]
    },
    {
      "cell_type": "code",
      "source": [
        "def divisores(x):\n",
        "  '''\n",
        "  >>> divisores(0)\n",
        "  []\n",
        "  >>> divisores(7)\n",
        "  [1, 7]\n",
        "  >>> divisores(12)\n",
        "  [1, 2, 3, 4, 6, 12]\n",
        "  '''\n",
        "  return [i for i in range(1,x+1) if x%i == 0]"
      ],
      "metadata": {
        "id": "CIh3y4z4prs_"
      },
      "execution_count": 50,
      "outputs": []
    },
    {
      "cell_type": "code",
      "source": [
        "doctest.testmod()"
      ],
      "metadata": {
        "id": "VHSw4piEprtA",
        "colab": {
          "base_uri": "https://localhost:8080/"
        },
        "outputId": "2b6f20b9-b1e5-44dd-ae89-a44cb6694e80"
      },
      "execution_count": 51,
      "outputs": [
        {
          "output_type": "execute_result",
          "data": {
            "text/plain": [
              "TestResults(failed=0, attempted=6)"
            ]
          },
          "metadata": {},
          "execution_count": 51
        }
      ]
    },
    {
      "cell_type": "markdown",
      "source": [
        "**Ejercicio:** Mediante listas definidas por comprensión define una función que determine si un número es primo."
      ],
      "metadata": {
        "id": "VTr5la-Up1Wr"
      }
    },
    {
      "cell_type": "code",
      "source": [
        "def es_primo(x):\n",
        "  '''\n",
        "  >>> es_primo(1)\n",
        "  False\n",
        "  >>> es_primo(7)\n",
        "  True\n",
        "  >>> es_primo(12)\n",
        "  False\n",
        "  '''\n",
        "  return len([i for i in range(2,x) if x%i == 0 ]) == 0 if x>1 else False"
      ],
      "metadata": {
        "id": "1mhyZg5Xp1Ws"
      },
      "execution_count": 52,
      "outputs": []
    },
    {
      "cell_type": "code",
      "source": [
        "doctest.testmod()"
      ],
      "metadata": {
        "id": "_K5jUwmJp1Ws",
        "colab": {
          "base_uri": "https://localhost:8080/"
        },
        "outputId": "e719a89c-3e9d-4756-f3db-70f0674a0d9b"
      },
      "execution_count": 53,
      "outputs": [
        {
          "output_type": "execute_result",
          "data": {
            "text/plain": [
              "TestResults(failed=0, attempted=9)"
            ]
          },
          "metadata": {},
          "execution_count": 53
        }
      ]
    },
    {
      "cell_type": "markdown",
      "source": [
        "**Ejercicio:** Mediante listas definidas por comprensión define una función que calcule los primos menores que un entero dado."
      ],
      "metadata": {
        "id": "1t9TLWlgqALk"
      }
    },
    {
      "cell_type": "code",
      "source": [
        "def primos_menores(x):\n",
        "  '''\n",
        "  >>> primos_menores(1)\n",
        "  []\n",
        "  >>> primos_menores(10)\n",
        "  [2, 3, 5, 7]\n",
        "  >>> primos_menores(50)\n",
        "  [2, 3, 5, 7, 11, 13, 17, 19, 23, 29, 31, 37, 41, 43, 47]\n",
        "  '''\n",
        "  return [i for i in range(1,x) if es_primo(i)]"
      ],
      "metadata": {
        "id": "brqFhGDDqALl"
      },
      "execution_count": 54,
      "outputs": []
    },
    {
      "cell_type": "code",
      "source": [
        "doctest.testmod()"
      ],
      "metadata": {
        "id": "UTY6MP-TqALl",
        "colab": {
          "base_uri": "https://localhost:8080/"
        },
        "outputId": "878c8221-c705-45d5-8c8d-ff9646c18596"
      },
      "execution_count": 55,
      "outputs": [
        {
          "output_type": "execute_result",
          "data": {
            "text/plain": [
              "TestResults(failed=0, attempted=12)"
            ]
          },
          "metadata": {},
          "execution_count": 55
        }
      ]
    },
    {
      "cell_type": "markdown",
      "source": [
        "**Ejercicio:** Implementa el método para [ordenar por mezcla](https://es.wikipedia.org/wiki/Ordenamiento_por_mezcla) una lista."
      ],
      "metadata": {
        "id": "4PEyRS0GqIMO"
      }
    },
    {
      "cell_type": "code",
      "source": [
        "def merge(left, right):\n",
        "  result = []\n",
        "  while len(left) > 0 and len(right) > 0:\n",
        "      if left[0] <= right[0]:\n",
        "          result.append(left.pop(0))\n",
        "      else:\n",
        "          result.append(right.pop(0))\n",
        "  result.extend(left)\n",
        "  result.extend(right)\n",
        "  return result\n",
        "\n",
        "def mergesort(lista):\n",
        "  '''\n",
        "  >>> mergesort([])\n",
        "  []\n",
        "  >>> mergesort([1])\n",
        "  [1]\n",
        "  >>> mergesort([5,1,-1,4,5,7])\n",
        "  [-1, 1, 4, 5, 5, 7]\n",
        "  >>> mergesort([5,1,-1,4,5,7,8])\n",
        "  [-1, 1, 4, 5, 5, 7, 8]\n",
        "  '''\n",
        "  if len(lista) <= 1:\n",
        "      return lista\n",
        "  else:\n",
        "      middle = len(lista) // 2\n",
        "      left = lista[:middle]\n",
        "      right = lista[middle:]\n",
        "      left = mergesort(left)\n",
        "      right = mergesort(right)\n",
        "      result = merge(left, right)\n",
        "      return result"
      ],
      "metadata": {
        "id": "Uw9x7r3cqIMP"
      },
      "execution_count": 56,
      "outputs": []
    },
    {
      "cell_type": "code",
      "source": [
        "doctest.testmod()"
      ],
      "metadata": {
        "id": "0-gYgQh0qIMQ",
        "colab": {
          "base_uri": "https://localhost:8080/"
        },
        "outputId": "88832707-86c7-41bb-e509-658c78d3f998"
      },
      "execution_count": 57,
      "outputs": [
        {
          "output_type": "execute_result",
          "data": {
            "text/plain": [
              "TestResults(failed=0, attempted=16)"
            ]
          },
          "metadata": {},
          "execution_count": 57
        }
      ]
    },
    {
      "cell_type": "markdown",
      "source": [
        "**Ejercicio:** Implementa el método [quicksort](https://es.wikipedia.org/wiki/Quicksort) para ordenar una lista."
      ],
      "metadata": {
        "id": "6TbMkAhnqSpb"
      }
    },
    {
      "cell_type": "code",
      "source": [
        "def quicksort(lista):\n",
        "  '''\n",
        "  >>> quicksort([])\n",
        "  []\n",
        "  >>> quicksort([1])\n",
        "  [1]\n",
        "  >>> quicksort([5,1,-1,4,5,7])\n",
        "  [-1, 1, 4, 5, 5, 7]\n",
        "  >>> quicksort([5,1,-1,4,5,7,8])\n",
        "  [-1, 1, 4, 5, 5, 7, 8]\n",
        "  '''\n",
        "  if len(lista) <= 1:\n",
        "        return lista\n",
        "  pivote = lista[len(lista)//2]\n",
        "  menores = [i for i in lista if i<pivote]\n",
        "  iguales = [i for i in lista if i==pivote]\n",
        "  mayores = [i for i in lista if i>pivote]\n",
        "  resultado = quicksort(menores)\n",
        "  resultado.extend(iguales)\n",
        "  resultado.extend(quicksort(mayores))\n",
        "  return resultado"
      ],
      "metadata": {
        "id": "TI3-VKGpqSpb"
      },
      "execution_count": 58,
      "outputs": []
    },
    {
      "cell_type": "code",
      "source": [
        "doctest.testmod()"
      ],
      "metadata": {
        "id": "jj42LPq4qSpc",
        "colab": {
          "base_uri": "https://localhost:8080/"
        },
        "outputId": "dc3ce23f-73cd-4f56-f561-c58989197567"
      },
      "execution_count": 59,
      "outputs": [
        {
          "output_type": "execute_result",
          "data": {
            "text/plain": [
              "TestResults(failed=0, attempted=20)"
            ]
          },
          "metadata": {},
          "execution_count": 59
        }
      ]
    },
    {
      "cell_type": "markdown",
      "source": [
        "**Ejercicio:** Implementa el cálculo de la transpuesta de una matriz mediante listas por comprensión. Se proporciona como ayuda la implementación de la transpuesta de una matriz \"a pelo\"."
      ],
      "metadata": {
        "id": "dYPy5ipGqf95"
      }
    },
    {
      "cell_type": "code",
      "source": [
        "#La siguiente función calcula la traspuesta de una matriz \"a pelo\".\n",
        "def traspuestaAPelo (m):\n",
        "    tras=[]\n",
        "    for i in range(len(m[0])):\n",
        "        filaT=[]\n",
        "        for j in range(len(m)):\n",
        "            filaT.append(m[j][i])\n",
        "        tras.append(filaT)\n",
        "    return(tras)\n",
        "traspuestaAPelo([[1,2,3],[4,5,6]])"
      ],
      "metadata": {
        "id": "o87fiBLgqrkQ",
        "colab": {
          "base_uri": "https://localhost:8080/"
        },
        "outputId": "54233162-d957-4fa1-e71a-a151d4138795"
      },
      "execution_count": 60,
      "outputs": [
        {
          "output_type": "execute_result",
          "data": {
            "text/plain": [
              "[[1, 4], [2, 5], [3, 6]]"
            ]
          },
          "metadata": {},
          "execution_count": 60
        }
      ]
    },
    {
      "cell_type": "code",
      "source": [
        "def transpuesta(lista):\n",
        "  '''\n",
        "  >>> transpuesta([[1,2,3],[4,5,6]])\n",
        "  [[1, 4], [2, 5], [3, 6]]\n",
        "  >>> transpuesta([[1, 4], [2, 5], [3, 6]])\n",
        "  [[1, 2, 3], [4, 5, 6]]\n",
        "  >>> transpuesta([[1, 4, 5], [2, 5, 7], [3, 6, 1]])\n",
        "  [[1, 2, 3], [4, 5, 6], [5, 7, 1]]\n",
        "  '''\n",
        "  tras = [[lista[j][i] for j in range(len(lista))] for i in range(len(lista[0]))]\n",
        "  return tras"
      ],
      "metadata": {
        "id": "Tg-5h79sqf96"
      },
      "execution_count": 61,
      "outputs": []
    },
    {
      "cell_type": "code",
      "source": [
        "doctest.testmod()"
      ],
      "metadata": {
        "id": "bn2-KE4Fqf96",
        "colab": {
          "base_uri": "https://localhost:8080/"
        },
        "outputId": "7982b0a8-b7df-4bd1-d037-f8ce4bbee1a1"
      },
      "execution_count": 62,
      "outputs": [
        {
          "output_type": "execute_result",
          "data": {
            "text/plain": [
              "TestResults(failed=0, attempted=23)"
            ]
          },
          "metadata": {},
          "execution_count": 62
        }
      ]
    },
    {
      "cell_type": "markdown",
      "metadata": {
        "id": "Z8clnWPnmCvU"
      },
      "source": [
        "**Ejercicio:** Dado un grafo orientado (representado mediante un diccionario en el cual las claves son los vértices y los valores son listas con los vertices adyacentes)  y uno de sus vértices, decidir si ese vértice es un sumidero (ninguna arista sale desde él). Además, mediante listas por comprensión, dado un grafo orientado decidir si contiene algún sumidero."
      ]
    },
    {
      "cell_type": "code",
      "source": [
        "def es_sumidero(grafo,vertice):\n",
        "  '''\n",
        "  >>> es_sumidero({1: [2,3,4], 2: [], 3: [2,4],4: [2]}, 2)\n",
        "  True\n",
        "  >>> es_sumidero({1: [2,3,4], 2: [], 3: [2,4],4: [2]}, 1)\n",
        "  False\n",
        "  >>> es_sumidero({1: [2,3,4], 2: [], 3: [2,4],4: [2]}, 3)\n",
        "  False\n",
        "  >>> es_sumidero({1: [2,3,4], 2: [], 3: [2,4],4: [2]}, 4)\n",
        "  False\n",
        "  '''\n",
        "  return grafo[vertice] == []"
      ],
      "metadata": {
        "id": "PzF-FYWYqxa7"
      },
      "execution_count": 63,
      "outputs": []
    },
    {
      "cell_type": "code",
      "source": [
        "doctest.testmod()"
      ],
      "metadata": {
        "id": "bl27b1NeqxVf",
        "colab": {
          "base_uri": "https://localhost:8080/"
        },
        "outputId": "d2bf4466-74b3-4b6a-e49c-83ff09298746"
      },
      "execution_count": 64,
      "outputs": [
        {
          "output_type": "execute_result",
          "data": {
            "text/plain": [
              "TestResults(failed=0, attempted=27)"
            ]
          },
          "metadata": {},
          "execution_count": 64
        }
      ]
    },
    {
      "cell_type": "code",
      "source": [
        "def contiene_sumidero(grafo):\n",
        "  '''\n",
        "  >>> contiene_sumidero({1: [2,3,4], 2: [], 3: [2,4],4: [2]})\n",
        "  True\n",
        "  >>> contiene_sumidero({})\n",
        "  False\n",
        "  >>> contiene_sumidero({1: [2,4], 2: [3,4], 3: [1],4: [3]})\n",
        "  False\n",
        "  '''\n",
        "  return len([i for i in grafo if es_sumidero(grafo,i)])>0"
      ],
      "metadata": {
        "id": "I1k3NqCGqxBn"
      },
      "execution_count": 65,
      "outputs": []
    },
    {
      "cell_type": "code",
      "source": [
        "doctest.testmod()"
      ],
      "metadata": {
        "id": "n35HWr03qw4P",
        "outputId": "4d077c9b-94d2-4aa6-e05d-b780ccb28f61",
        "colab": {
          "base_uri": "https://localhost:8080/"
        }
      },
      "execution_count": 66,
      "outputs": [
        {
          "output_type": "execute_result",
          "data": {
            "text/plain": [
              "TestResults(failed=0, attempted=30)"
            ]
          },
          "metadata": {},
          "execution_count": 66
        }
      ]
    },
    {
      "cell_type": "markdown",
      "metadata": {
        "id": "9Cwzs5bMmCvU"
      },
      "source": [
        "**Ejercicio:** Implementa tu propio método zip de una lista de listas usando listas por comprensión."
      ]
    },
    {
      "cell_type": "code",
      "execution_count": null,
      "metadata": {
        "id": "ggoLm4YWmCvU"
      },
      "outputs": [],
      "source": [
        "def mizip(lista1,lista2):\n",
        "  '''\n",
        "  >>> mizip([1,2,3],[4,5])\n",
        "  [(1, 4), (2, 5)]\n",
        "  >>> mizip([1,2,3],[4,5,6])\n",
        "  [(1, 4), (2, 5), (3, 6)]\n",
        "  >>> mizip([1,2],[4,5,6])\n",
        "  [(1, 4), (2, 5)]\n",
        "  '''\n",
        "  pass"
      ]
    },
    {
      "cell_type": "code",
      "execution_count": null,
      "metadata": {
        "id": "F0QF_VgCmCvU"
      },
      "outputs": [],
      "source": [
        "doctest.testmod()"
      ]
    },
    {
      "cell_type": "markdown",
      "source": [
        "# Entrega\n",
        "Recuerda guardar este notebook en tu repositorio de GitHub."
      ],
      "metadata": {
        "id": "LjU5aMwiHbn0"
      }
    }
  ],
  "metadata": {
    "celltoolbar": "Raw Cell Format",
    "kernelspec": {
      "display_name": "Python 3 (ipykernel)",
      "language": "python",
      "name": "python3"
    },
    "language_info": {
      "codemirror_mode": {
        "name": "ipython",
        "version": 3
      },
      "file_extension": ".py",
      "mimetype": "text/x-python",
      "name": "python",
      "nbconvert_exporter": "python",
      "pygments_lexer": "ipython3",
      "version": "3.8.10"
    },
    "colab": {
      "provenance": [],
      "include_colab_link": true
    }
  },
  "nbformat": 4,
  "nbformat_minor": 0
}